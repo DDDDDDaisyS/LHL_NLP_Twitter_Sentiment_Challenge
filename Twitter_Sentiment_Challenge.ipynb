{
 "cells": [
  {
   "cell_type": "markdown",
   "id": "58047709-0ad9-466a-be8d-dfac98d9bcba",
   "metadata": {},
   "source": [
    "### Prepare Dataset"
   ]
  },
  {
   "cell_type": "code",
   "execution_count": 1,
   "id": "57464192-a24f-4246-a4d4-e9384d249314",
   "metadata": {},
   "outputs": [],
   "source": [
    "import re\n",
    "import json\n",
    "import ast\n",
    "import pandas as pd\n",
    "import numpy as np\n",
    "import string\n",
    "import nltk\n",
    "from nltk.corpus import stopwords\n",
    "from sklearn.feature_extraction.text import TfidfVectorizer\n",
    "from sklearn.model_selection import train_test_split\n",
    "from sklearn import naive_bayes\n",
    "from sklearn.metrics import confusion_matrix, accuracy_score, recall_score, precision_score"
   ]
  },
  {
   "cell_type": "code",
   "execution_count": 2,
   "id": "e453fff4-71b8-4b78-8eaf-3e16a09e968c",
   "metadata": {},
   "outputs": [],
   "source": [
    "# raw file is composed of dictionary-like lines and space lines\n",
    "# reading the data into lines from the file\n",
    "with open('sentiment.txt') as f:\n",
    "    lines = f.readlines()"
   ]
  },
  {
   "cell_type": "code",
   "execution_count": 3,
   "id": "0a10f3f0-b0fa-4094-8c98-8c34100070a7",
   "metadata": {},
   "outputs": [],
   "source": [
    "# convert text and label into lists\n",
    "texts = []\n",
    "labels = []\n",
    "for line in lines[0::2]: # there are space line in between every two 'dictionaries'\n",
    "    text = json.loads(line[:-1])['text'] # exclude \\n\n",
    "    label = re.findall(r':\\)|:\\(', text) # extract :) and :( as labels\n",
    "    texts.append(text)\n",
    "    labels.append(label)"
   ]
  },
  {
   "cell_type": "code",
   "execution_count": 4,
   "id": "4502f4ba-ac96-40b9-b2e3-a4c92434ef1e",
   "metadata": {},
   "outputs": [
    {
     "data": {
      "text/html": [
       "<div>\n",
       "<style scoped>\n",
       "    .dataframe tbody tr th:only-of-type {\n",
       "        vertical-align: middle;\n",
       "    }\n",
       "\n",
       "    .dataframe tbody tr th {\n",
       "        vertical-align: top;\n",
       "    }\n",
       "\n",
       "    .dataframe thead th {\n",
       "        text-align: right;\n",
       "    }\n",
       "</style>\n",
       "<table border=\"1\" class=\"dataframe\">\n",
       "  <thead>\n",
       "    <tr style=\"text-align: right;\">\n",
       "      <th></th>\n",
       "      <th>text</th>\n",
       "      <th>label</th>\n",
       "    </tr>\n",
       "  </thead>\n",
       "  <tbody>\n",
       "    <tr>\n",
       "      <th>0</th>\n",
       "      <td>we haven’t talked much but u are very kind :)</td>\n",
       "      <td>1</td>\n",
       "    </tr>\n",
       "    <tr>\n",
       "      <th>1</th>\n",
       "      <td>@SolanaPawnStars cant even connect to site :(</td>\n",
       "      <td>0</td>\n",
       "    </tr>\n",
       "    <tr>\n",
       "      <th>2</th>\n",
       "      <td>@hottestsingles excited but cold comfort in th...</td>\n",
       "      <td>0</td>\n",
       "    </tr>\n",
       "    <tr>\n",
       "      <th>5</th>\n",
       "      <td>// Back soon :)</td>\n",
       "      <td>1</td>\n",
       "    </tr>\n",
       "    <tr>\n",
       "      <th>6</th>\n",
       "      <td>RT @wilburtwtt: crimeboystwt follow list!! \\n\\...</td>\n",
       "      <td>1</td>\n",
       "    </tr>\n",
       "  </tbody>\n",
       "</table>\n",
       "</div>"
      ],
      "text/plain": [
       "                                                text  label\n",
       "0      we haven’t talked much but u are very kind :)      1\n",
       "1      @SolanaPawnStars cant even connect to site :(      0\n",
       "2  @hottestsingles excited but cold comfort in th...      0\n",
       "5                                    // Back soon :)      1\n",
       "6  RT @wilburtwtt: crimeboystwt follow list!! \\n\\...      1"
      ]
     },
     "execution_count": 4,
     "metadata": {},
     "output_type": "execute_result"
    }
   ],
   "source": [
    "# combine texts and labels into dataframe\n",
    "df = pd.DataFrame({'text': texts, 'label': labels}) \n",
    "# some labels contain more than one sentiments, might be same or different\n",
    "df['label'] = df['label'].apply(lambda x: list(set(x))) \n",
    "# extract data with only single sentiment\n",
    "data = df[df.label.isin([[':)'], [':(']])].copy() \n",
    "# convert label list to str format\n",
    "data['label'] = data['label'].apply(lambda x: x[0])\n",
    "# convert labels to 1 or 0\n",
    "data.replace({'label': {':)': 1, ':(': 0}}, inplace=True) \n",
    "\n",
    "data.head()"
   ]
  },
  {
   "cell_type": "markdown",
   "id": "5800211f-5024-43f6-86a3-0b907f7b7fb5",
   "metadata": {},
   "source": [
    "### NLP"
   ]
  },
  {
   "cell_type": "code",
   "execution_count": 5,
   "id": "2a4dd104-8d32-48c4-8242-3914c769d044",
   "metadata": {},
   "outputs": [],
   "source": [
    "features = np.array(data['text'])\n",
    "labels = np.array(data['label'])"
   ]
  },
  {
   "cell_type": "code",
   "execution_count": 9,
   "id": "20b03a75-e18a-488a-b9db-a0ded86b75cf",
   "metadata": {},
   "outputs": [],
   "source": [
    "processed_features = []\n",
    "# remove punctuations\n",
    "for sentence in features:\n",
    "    stripped = ''.join([char for char in sentence if char not in string.punctuation])\n",
    "    processed_features.append(stripped)\n",
    "    \n",
    "# initialize TfIdf Vectorizer\n",
    "vectorizer = TfidfVectorizer(use_idf=True, \n",
    "                             lowercase=True, \n",
    "                             strip_accents='ascii', \n",
    "                             stop_words = stopwords.words('english'))\n",
    "# transform features with vectorizer\n",
    "X = vectorizer.fit_transform(processed_features)"
   ]
  },
  {
   "cell_type": "markdown",
   "id": "593ced7c-4782-4096-983e-ee43fbbf09e3",
   "metadata": {},
   "source": [
    "### Model and Prediction"
   ]
  },
  {
   "cell_type": "code",
   "execution_count": 10,
   "id": "a7ca4f5d-ddd5-432b-a561-08a66dc977fe",
   "metadata": {},
   "outputs": [
    {
     "data": {
      "text/plain": [
       "BernoulliNB()"
      ]
     },
     "execution_count": 10,
     "metadata": {},
     "output_type": "execute_result"
    }
   ],
   "source": [
    "# split train/test\n",
    "X_train, X_test, y_train, y_test = train_test_split(X, labels, test_size=0.25, random_state=88)\n",
    "\n",
    "# initialize classifier\n",
    "clf = naive_bayes.BernoulliNB()\n",
    "# fit data\n",
    "clf.fit(X_train, y_train)"
   ]
  },
  {
   "cell_type": "code",
   "execution_count": 11,
   "id": "f4ab43dd-d39b-4de3-8461-fb7050871def",
   "metadata": {},
   "outputs": [
    {
     "data": {
      "text/plain": [
       "array([[ 7271,  1916],\n",
       "       [ 1053, 10773]], dtype=int64)"
      ]
     },
     "execution_count": 11,
     "metadata": {},
     "output_type": "execute_result"
    }
   ],
   "source": [
    "y_pred = clf.predict(X_test)\n",
    "confusion_matrix(y_test, y_pred)"
   ]
  },
  {
   "cell_type": "code",
   "execution_count": 12,
   "id": "0b4b63ae-4ccb-4a11-b25c-cced175f383d",
   "metadata": {},
   "outputs": [
    {
     "data": {
      "text/plain": [
       "0.8587065150145148"
      ]
     },
     "execution_count": 12,
     "metadata": {},
     "output_type": "execute_result"
    }
   ],
   "source": [
    "accuracy_score(y_test, y_pred)"
   ]
  },
  {
   "cell_type": "code",
   "execution_count": 13,
   "id": "8de445fc-9fa6-4eca-913a-fd5ef5cd5370",
   "metadata": {},
   "outputs": [
    {
     "data": {
      "text/plain": [
       "0.910958904109589"
      ]
     },
     "execution_count": 13,
     "metadata": {},
     "output_type": "execute_result"
    }
   ],
   "source": [
    "recall_score(y_test, y_pred)"
   ]
  },
  {
   "cell_type": "code",
   "execution_count": 14,
   "id": "57732f6d-5665-4212-b48a-a18b5a51afe3",
   "metadata": {},
   "outputs": [
    {
     "data": {
      "text/plain": [
       "0.8490030735282528"
      ]
     },
     "execution_count": 14,
     "metadata": {},
     "output_type": "execute_result"
    }
   ],
   "source": [
    "precision_score(y_test, y_pred)"
   ]
  },
  {
   "cell_type": "code",
   "execution_count": null,
   "id": "60dd982a-9ba1-4b13-9378-3c8342410070",
   "metadata": {},
   "outputs": [],
   "source": []
  }
 ],
 "metadata": {
  "kernelspec": {
   "display_name": "Python 3 (ipykernel)",
   "language": "python",
   "name": "python3"
  },
  "language_info": {
   "codemirror_mode": {
    "name": "ipython",
    "version": 3
   },
   "file_extension": ".py",
   "mimetype": "text/x-python",
   "name": "python",
   "nbconvert_exporter": "python",
   "pygments_lexer": "ipython3",
   "version": "3.9.7"
  }
 },
 "nbformat": 4,
 "nbformat_minor": 5
}
