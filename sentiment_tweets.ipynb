{
 "cells": [
  {
   "cell_type": "code",
   "execution_count": 1,
   "id": "41670c86-72ee-4b7a-9f91-e910aac56930",
   "metadata": {},
   "outputs": [],
   "source": [
    "import twitter\n",
    "import os\n",
    "import json"
   ]
  },
  {
   "cell_type": "code",
   "execution_count": 2,
   "id": "3e3ecab4-f542-46f0-b98d-021ac60ab76e",
   "metadata": {},
   "outputs": [],
   "source": [
    "# Load the values of access tokens and keys from environmental variables to python variables\n",
    "consumer_key = os.environ[\"Twitter_API_Key\"]\n",
    "consumer_secret = os.environ[\"Twitter_API_Key_Secret\"]\n",
    "access_token = os.environ[\"Twitter_Access_Token\"]\n",
    "access_token_secret = os.environ[\"Twitter_Access_Token_Secret\"]\n",
    "\n",
    "api = twitter.Api(consumer_key=consumer_key,\n",
    "                  consumer_secret=consumer_secret,\n",
    "                  access_token_key=access_token,\n",
    "                  access_token_secret=access_token_secret)"
   ]
  },
  {
   "cell_type": "code",
   "execution_count": 3,
   "id": "55edaaff-0a5a-413f-b87f-5f94e0b091c6",
   "metadata": {},
   "outputs": [],
   "source": [
    "# filter tweets with given conditions; write filtered tweets into file sentiment.txt\n",
    "def filter_tweets(FILTER, LANGUAGES, LOCATIONS):\n",
    "    \"\"\"\n",
    "    FILTER: type(list) to filter tweets mentioning given strings in it\n",
    "    LANGUAGES: type(list) to filter tweets only in the given languages\n",
    "    LOCATION: type(list) to filter tweets by locations where they were posted\n",
    "    \"\"\"\n",
    "    \n",
    "    with open('sentiment.txt', 'a') as f:\n",
    "        # api.GetStreamFilter will return a generator that yields one status\n",
    "        # message (i.e., Tweet) at a time as a JSON dictionary.\n",
    "        for line in api.GetStreamFilter(track=FILTER, languages=LANGUAGES, locations=LOCATIONS):\n",
    "            f.write(json.dumps(line))\n",
    "            f.write('\\n\\n')"
   ]
  },
  {
   "cell_type": "code",
   "execution_count": null,
   "id": "0e0dc07d-6e9c-4af2-bf65-543527e58e96",
   "metadata": {},
   "outputs": [],
   "source": [
    "filter_tweets([':)',':('], ['en'], ['-140.99778, 41.6751050889, -52.6480987209, 83.23324'])"
   ]
  },
  {
   "cell_type": "code",
   "execution_count": null,
   "id": "a631afa3-c2c9-4fcb-b561-c75800f14078",
   "metadata": {},
   "outputs": [],
   "source": []
  }
 ],
 "metadata": {
  "kernelspec": {
   "display_name": "Python 3 (ipykernel)",
   "language": "python",
   "name": "python3"
  },
  "language_info": {
   "codemirror_mode": {
    "name": "ipython",
    "version": 3
   },
   "file_extension": ".py",
   "mimetype": "text/x-python",
   "name": "python",
   "nbconvert_exporter": "python",
   "pygments_lexer": "ipython3",
   "version": "3.9.7"
  }
 },
 "nbformat": 4,
 "nbformat_minor": 5
}
